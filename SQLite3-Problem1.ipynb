{
 "cells": [
  {
   "cell_type": "markdown",
   "id": "95ae5cc0",
   "metadata": {},
   "source": [
    "Input and output available in 'SQLite3-Problem1.xlsx'"
   ]
  },
  {
   "cell_type": "code",
   "execution_count": 13,
   "id": "ccf2770c",
   "metadata": {},
   "outputs": [],
   "source": [
    "import pandas as pd\n",
    "import sqlite3 as db\n",
    "\n",
    "#Connect to SQLite DB named 'sqliteprac.db'. If it's not prsent, it will create a new one.\n",
    "conn = db.connect('sqliteprac.db')"
   ]
  },
  {
   "cell_type": "code",
   "execution_count": 2,
   "id": "9e934df2",
   "metadata": {},
   "outputs": [],
   "source": [
    "#Create a cursor to communicate with the datbase\n",
    "cn = conn.cursor()"
   ]
  },
  {
   "cell_type": "code",
   "execution_count": 4,
   "id": "85a1daeb",
   "metadata": {},
   "outputs": [
    {
     "data": {
      "text/plain": [
       "<sqlite3.Cursor at 0x2240094dec0>"
      ]
     },
     "execution_count": 4,
     "metadata": {},
     "output_type": "execute_result"
    }
   ],
   "source": [
    "#Create a table and provide column details\n",
    "cn.execute( \"create table icc_world_cup(Team_1 Varchar(20),Team_2 Varchar(20),Winner Varchar(20))\")"
   ]
  },
  {
   "cell_type": "code",
   "execution_count": 5,
   "id": "f5d81dc2",
   "metadata": {},
   "outputs": [],
   "source": [
    "icc_values = [('India','SL','India'),('SL','Aus','Aus'),('SA','Eng','Eng'),('Eng','NZ','NZ'),('Aus','India','India')]"
   ]
  },
  {
   "cell_type": "code",
   "execution_count": 6,
   "id": "6aa8b988",
   "metadata": {},
   "outputs": [],
   "source": [
    "query= \"insert into icc_world_cup VALUES(?,?,?)\""
   ]
  },
  {
   "cell_type": "code",
   "execution_count": 7,
   "id": "bad3a9c6",
   "metadata": {},
   "outputs": [
    {
     "data": {
      "text/plain": [
       "<sqlite3.Cursor at 0x2240094dec0>"
      ]
     },
     "execution_count": 7,
     "metadata": {},
     "output_type": "execute_result"
    }
   ],
   "source": [
    "#Insert values into the table\n",
    "cn.executemany(query,icc_values)"
   ]
  },
  {
   "cell_type": "code",
   "execution_count": 8,
   "id": "be82eb34",
   "metadata": {},
   "outputs": [
    {
     "name": "stdout",
     "output_type": "stream",
     "text": [
      "[('India', 'SL', 'India'), ('SL', 'Aus', 'Aus'), ('SA', 'Eng', 'Eng'), ('Eng', 'NZ', 'NZ'), ('Aus', 'India', 'India')]\n"
     ]
    }
   ],
   "source": [
    "#Query to read values in the table\n",
    "cn.execute(\"select * from icc_world_cup\")\n",
    "print(cn.fetchall())"
   ]
  },
  {
   "cell_type": "code",
   "execution_count": 9,
   "id": "2573737a",
   "metadata": {},
   "outputs": [
    {
     "data": {
      "text/html": [
       "<div>\n",
       "<style scoped>\n",
       "    .dataframe tbody tr th:only-of-type {\n",
       "        vertical-align: middle;\n",
       "    }\n",
       "\n",
       "    .dataframe tbody tr th {\n",
       "        vertical-align: top;\n",
       "    }\n",
       "\n",
       "    .dataframe thead th {\n",
       "        text-align: right;\n",
       "    }\n",
       "</style>\n",
       "<table border=\"1\" class=\"dataframe\">\n",
       "  <thead>\n",
       "    <tr style=\"text-align: right;\">\n",
       "      <th></th>\n",
       "      <th>Team_1</th>\n",
       "      <th>Team_2</th>\n",
       "      <th>Winner</th>\n",
       "    </tr>\n",
       "  </thead>\n",
       "  <tbody>\n",
       "    <tr>\n",
       "      <th>0</th>\n",
       "      <td>India</td>\n",
       "      <td>SL</td>\n",
       "      <td>India</td>\n",
       "    </tr>\n",
       "    <tr>\n",
       "      <th>1</th>\n",
       "      <td>SL</td>\n",
       "      <td>Aus</td>\n",
       "      <td>Aus</td>\n",
       "    </tr>\n",
       "    <tr>\n",
       "      <th>2</th>\n",
       "      <td>SA</td>\n",
       "      <td>Eng</td>\n",
       "      <td>Eng</td>\n",
       "    </tr>\n",
       "    <tr>\n",
       "      <th>3</th>\n",
       "      <td>Eng</td>\n",
       "      <td>NZ</td>\n",
       "      <td>NZ</td>\n",
       "    </tr>\n",
       "    <tr>\n",
       "      <th>4</th>\n",
       "      <td>Aus</td>\n",
       "      <td>India</td>\n",
       "      <td>India</td>\n",
       "    </tr>\n",
       "  </tbody>\n",
       "</table>\n",
       "</div>"
      ],
      "text/plain": [
       "  Team_1 Team_2 Winner\n",
       "0  India     SL  India\n",
       "1     SL    Aus    Aus\n",
       "2     SA    Eng    Eng\n",
       "3    Eng     NZ     NZ\n",
       "4    Aus  India  India"
      ]
     },
     "execution_count": 9,
     "metadata": {},
     "output_type": "execute_result"
    }
   ],
   "source": [
    "#Query to read values in the table in Pandas\n",
    "query = 'select * from icc_world_cup'\n",
    "pd.read_sql_query(query,conn)"
   ]
  },
  {
   "cell_type": "code",
   "execution_count": 10,
   "id": "d9bd83cd",
   "metadata": {},
   "outputs": [
    {
     "data": {
      "text/html": [
       "<div>\n",
       "<style scoped>\n",
       "    .dataframe tbody tr th:only-of-type {\n",
       "        vertical-align: middle;\n",
       "    }\n",
       "\n",
       "    .dataframe tbody tr th {\n",
       "        vertical-align: top;\n",
       "    }\n",
       "\n",
       "    .dataframe thead th {\n",
       "        text-align: right;\n",
       "    }\n",
       "</style>\n",
       "<table border=\"1\" class=\"dataframe\">\n",
       "  <thead>\n",
       "    <tr style=\"text-align: right;\">\n",
       "      <th></th>\n",
       "      <th>Team_name</th>\n",
       "      <th>win_flag</th>\n",
       "    </tr>\n",
       "  </thead>\n",
       "  <tbody>\n",
       "    <tr>\n",
       "      <th>0</th>\n",
       "      <td>India</td>\n",
       "      <td>1</td>\n",
       "    </tr>\n",
       "    <tr>\n",
       "      <th>1</th>\n",
       "      <td>SL</td>\n",
       "      <td>0</td>\n",
       "    </tr>\n",
       "    <tr>\n",
       "      <th>2</th>\n",
       "      <td>SA</td>\n",
       "      <td>0</td>\n",
       "    </tr>\n",
       "    <tr>\n",
       "      <th>3</th>\n",
       "      <td>Eng</td>\n",
       "      <td>0</td>\n",
       "    </tr>\n",
       "    <tr>\n",
       "      <th>4</th>\n",
       "      <td>Aus</td>\n",
       "      <td>0</td>\n",
       "    </tr>\n",
       "    <tr>\n",
       "      <th>5</th>\n",
       "      <td>SL</td>\n",
       "      <td>0</td>\n",
       "    </tr>\n",
       "    <tr>\n",
       "      <th>6</th>\n",
       "      <td>Aus</td>\n",
       "      <td>1</td>\n",
       "    </tr>\n",
       "    <tr>\n",
       "      <th>7</th>\n",
       "      <td>Eng</td>\n",
       "      <td>1</td>\n",
       "    </tr>\n",
       "    <tr>\n",
       "      <th>8</th>\n",
       "      <td>NZ</td>\n",
       "      <td>1</td>\n",
       "    </tr>\n",
       "    <tr>\n",
       "      <th>9</th>\n",
       "      <td>India</td>\n",
       "      <td>1</td>\n",
       "    </tr>\n",
       "  </tbody>\n",
       "</table>\n",
       "</div>"
      ],
      "text/plain": [
       "  Team_name  win_flag\n",
       "0     India         1\n",
       "1        SL         0\n",
       "2        SA         0\n",
       "3       Eng         0\n",
       "4       Aus         0\n",
       "5        SL         0\n",
       "6       Aus         1\n",
       "7       Eng         1\n",
       "8        NZ         1\n",
       "9     India         1"
      ]
     },
     "execution_count": 10,
     "metadata": {},
     "output_type": "execute_result"
    }
   ],
   "source": [
    "#Query to create a new column named win_flag and post the value 1 for the winning teams in every row \n",
    "#Query done individually for columns Team_1 and Team_2 and then union of both the columns\n",
    "query = \"\"\"\n",
    "select Team_1 as Team_name, \n",
    "       case when Team_1 = Winner then 1 else 0 end as win_flag\n",
    "from icc_world_cup\n",
    "union all\n",
    "select Team_2 as Team_name, \n",
    "       case when Team_2 = Winner then 1 else 0 end as win_flag\n",
    "from icc_world_cup\n",
    "\"\"\"\n",
    "pd.read_sql_query(query,conn)"
   ]
  },
  {
   "cell_type": "code",
   "execution_count": 20,
   "id": "f770f0e9",
   "metadata": {},
   "outputs": [
    {
     "data": {
      "text/html": [
       "<div>\n",
       "<style scoped>\n",
       "    .dataframe tbody tr th:only-of-type {\n",
       "        vertical-align: middle;\n",
       "    }\n",
       "\n",
       "    .dataframe tbody tr th {\n",
       "        vertical-align: top;\n",
       "    }\n",
       "\n",
       "    .dataframe thead th {\n",
       "        text-align: right;\n",
       "    }\n",
       "</style>\n",
       "<table border=\"1\" class=\"dataframe\">\n",
       "  <thead>\n",
       "    <tr style=\"text-align: right;\">\n",
       "      <th></th>\n",
       "      <th>Team_name</th>\n",
       "      <th>No_of_matches_played</th>\n",
       "      <th>No_of_matches_won</th>\n",
       "      <th>No_of_matches_lost</th>\n",
       "    </tr>\n",
       "  </thead>\n",
       "  <tbody>\n",
       "    <tr>\n",
       "      <th>0</th>\n",
       "      <td>India</td>\n",
       "      <td>2</td>\n",
       "      <td>2</td>\n",
       "      <td>0</td>\n",
       "    </tr>\n",
       "    <tr>\n",
       "      <th>1</th>\n",
       "      <td>NZ</td>\n",
       "      <td>1</td>\n",
       "      <td>1</td>\n",
       "      <td>0</td>\n",
       "    </tr>\n",
       "    <tr>\n",
       "      <th>2</th>\n",
       "      <td>Eng</td>\n",
       "      <td>2</td>\n",
       "      <td>1</td>\n",
       "      <td>1</td>\n",
       "    </tr>\n",
       "    <tr>\n",
       "      <th>3</th>\n",
       "      <td>Aus</td>\n",
       "      <td>2</td>\n",
       "      <td>1</td>\n",
       "      <td>1</td>\n",
       "    </tr>\n",
       "    <tr>\n",
       "      <th>4</th>\n",
       "      <td>SL</td>\n",
       "      <td>2</td>\n",
       "      <td>0</td>\n",
       "      <td>2</td>\n",
       "    </tr>\n",
       "    <tr>\n",
       "      <th>5</th>\n",
       "      <td>SA</td>\n",
       "      <td>1</td>\n",
       "      <td>0</td>\n",
       "      <td>1</td>\n",
       "    </tr>\n",
       "  </tbody>\n",
       "</table>\n",
       "</div>"
      ],
      "text/plain": [
       "  Team_name  No_of_matches_played  No_of_matches_won  No_of_matches_lost\n",
       "0     India                     2                  2                   0\n",
       "1        NZ                     1                  1                   0\n",
       "2       Eng                     2                  1                   1\n",
       "3       Aus                     2                  1                   1\n",
       "4        SL                     2                  0                   2\n",
       "5        SA                     1                  0                   1"
      ]
     },
     "execution_count": 20,
     "metadata": {},
     "output_type": "execute_result"
    }
   ],
   "source": [
    "#Query to determine the matches lost using the win_flag, count\n",
    "query = \"\"\"\n",
    "with win as\n",
    "(\n",
    "select Team_1 as Team_name, \n",
    "       case when Team_1 = Winner then 1 else 0 end as win_flag\n",
    "from icc_world_cup\n",
    "union all\n",
    "select Team_2 as Team_name, \n",
    "       case when Team_2 = Winner then 1 else 0 end as win_flag\n",
    "from icc_world_cup\n",
    ")\n",
    "\n",
    "select Team_name, \n",
    "       count(1) as 'No_of_matches_played', \n",
    "       sum(win_flag) as 'No_of_matches_won',\n",
    "       count(1) - sum(win_flag) as 'No_of_matches_lost'\n",
    "from win\n",
    "group by Team_name\n",
    "order by No_of_matches_won desc\n",
    "\"\"\"\n",
    "pd.read_sql_query(query,conn)"
   ]
  },
  {
   "cell_type": "code",
   "execution_count": 11,
   "id": "b2ad3a18",
   "metadata": {},
   "outputs": [],
   "source": [
    "#Commit the changes in the DB\n",
    "conn.commit()"
   ]
  },
  {
   "cell_type": "code",
   "execution_count": 12,
   "id": "a5aa7488",
   "metadata": {},
   "outputs": [],
   "source": [
    "#Close the connection to the DB\n",
    "conn.close()"
   ]
  }
 ],
 "metadata": {
  "kernelspec": {
   "display_name": "Python 3 (ipykernel)",
   "language": "python",
   "name": "python3"
  },
  "language_info": {
   "codemirror_mode": {
    "name": "ipython",
    "version": 3
   },
   "file_extension": ".py",
   "mimetype": "text/x-python",
   "name": "python",
   "nbconvert_exporter": "python",
   "pygments_lexer": "ipython3",
   "version": "3.11.1"
  }
 },
 "nbformat": 4,
 "nbformat_minor": 5
}
