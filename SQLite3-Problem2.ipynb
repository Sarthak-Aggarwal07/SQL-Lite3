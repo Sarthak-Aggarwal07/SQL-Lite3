{
 "cells": [
  {
   "cell_type": "markdown",
   "id": "3044c57f",
   "metadata": {},
   "source": [
    "Input and output available in 'SQLite3-Problem2.xlsx'"
   ]
  },
  {
   "cell_type": "code",
   "execution_count": 1,
   "id": "de954e69",
   "metadata": {},
   "outputs": [],
   "source": [
    "import pandas as pd\n",
    "import sqlite3 as db"
   ]
  },
  {
   "cell_type": "code",
   "execution_count": 2,
   "id": "8043317b",
   "metadata": {},
   "outputs": [],
   "source": [
    "conn = db.connect('sqliteprac.db')"
   ]
  },
  {
   "cell_type": "code",
   "execution_count": 3,
   "id": "5415f268",
   "metadata": {},
   "outputs": [],
   "source": [
    "cn = conn.cursor()"
   ]
  },
  {
   "cell_type": "code",
   "execution_count": 24,
   "id": "0b25ebc1",
   "metadata": {},
   "outputs": [
    {
     "data": {
      "text/plain": [
       "<sqlite3.Cursor at 0x1748aa8a940>"
      ]
     },
     "execution_count": 24,
     "metadata": {},
     "output_type": "execute_result"
    }
   ],
   "source": [
    "cn.execute(\"create table entries ( \\\n",
    "name varchar(20),\\\n",
    "address varchar(20),\\\n",
    "email varchar(20),\\\n",
    "floor int,\\\n",
    "resources varchar(10));\")"
   ]
  },
  {
   "cell_type": "code",
   "execution_count": 43,
   "id": "81f99b07",
   "metadata": {},
   "outputs": [
    {
     "data": {
      "text/plain": [
       "<sqlite3.Cursor at 0x1748aa8a940>"
      ]
     },
     "execution_count": 43,
     "metadata": {},
     "output_type": "execute_result"
    }
   ],
   "source": [
    "cn.execute(\"insert into entries values ('A','Bangalore','A@gmail.com',1,'CPU'),('A','Bangalore','A1@gmail.com',1,'CPU'),('A','Bangalore','A2@gmail.com',2,'DESKTOP')\\\n",
    ",('B','Bangalore','B@gmail.com',2,'DESKTOP'),('B','Bangalore','B1@gmail.com',2,'DESKTOP'),('B','Bangalore','B2@gmail.com',1,'MONITOR')\")"
   ]
  },
  {
   "cell_type": "code",
   "execution_count": 26,
   "id": "23cb9f7d",
   "metadata": {},
   "outputs": [
    {
     "name": "stdout",
     "output_type": "stream",
     "text": [
      "[('A', 'Bangalore', 'A@gmail.com', 1, 'CPU'), ('A', 'Bangalore', 'A1@gmail.com', 1, 'CPU'), ('A', 'Bangalore', 'A2@gmail.com', 2, 'DESKTOP'), ('B', 'Bangalore', 'B@gmail.com', 2, 'DESKTOP'), ('B', 'Bangalore', 'B1@gmail.com', 2, 'DESKTOP'), ('B', 'Bangalore', 'B2@gmail.com', 1, 'MONITOR')]\n"
     ]
    }
   ],
   "source": [
    "cn.execute(\"select * from entries\")\n",
    "print(cn.fetchall())"
   ]
  },
  {
   "cell_type": "code",
   "execution_count": 27,
   "id": "a3d451a0",
   "metadata": {},
   "outputs": [
    {
     "data": {
      "text/html": [
       "<div>\n",
       "<style scoped>\n",
       "    .dataframe tbody tr th:only-of-type {\n",
       "        vertical-align: middle;\n",
       "    }\n",
       "\n",
       "    .dataframe tbody tr th {\n",
       "        vertical-align: top;\n",
       "    }\n",
       "\n",
       "    .dataframe thead th {\n",
       "        text-align: right;\n",
       "    }\n",
       "</style>\n",
       "<table border=\"1\" class=\"dataframe\">\n",
       "  <thead>\n",
       "    <tr style=\"text-align: right;\">\n",
       "      <th></th>\n",
       "      <th>name</th>\n",
       "      <th>address</th>\n",
       "      <th>email</th>\n",
       "      <th>floor</th>\n",
       "      <th>resources</th>\n",
       "    </tr>\n",
       "  </thead>\n",
       "  <tbody>\n",
       "    <tr>\n",
       "      <th>0</th>\n",
       "      <td>A</td>\n",
       "      <td>Bangalore</td>\n",
       "      <td>A@gmail.com</td>\n",
       "      <td>1</td>\n",
       "      <td>CPU</td>\n",
       "    </tr>\n",
       "    <tr>\n",
       "      <th>1</th>\n",
       "      <td>A</td>\n",
       "      <td>Bangalore</td>\n",
       "      <td>A1@gmail.com</td>\n",
       "      <td>1</td>\n",
       "      <td>CPU</td>\n",
       "    </tr>\n",
       "    <tr>\n",
       "      <th>2</th>\n",
       "      <td>A</td>\n",
       "      <td>Bangalore</td>\n",
       "      <td>A2@gmail.com</td>\n",
       "      <td>2</td>\n",
       "      <td>DESKTOP</td>\n",
       "    </tr>\n",
       "    <tr>\n",
       "      <th>3</th>\n",
       "      <td>B</td>\n",
       "      <td>Bangalore</td>\n",
       "      <td>B@gmail.com</td>\n",
       "      <td>2</td>\n",
       "      <td>DESKTOP</td>\n",
       "    </tr>\n",
       "    <tr>\n",
       "      <th>4</th>\n",
       "      <td>B</td>\n",
       "      <td>Bangalore</td>\n",
       "      <td>B1@gmail.com</td>\n",
       "      <td>2</td>\n",
       "      <td>DESKTOP</td>\n",
       "    </tr>\n",
       "    <tr>\n",
       "      <th>5</th>\n",
       "      <td>B</td>\n",
       "      <td>Bangalore</td>\n",
       "      <td>B2@gmail.com</td>\n",
       "      <td>1</td>\n",
       "      <td>MONITOR</td>\n",
       "    </tr>\n",
       "  </tbody>\n",
       "</table>\n",
       "</div>"
      ],
      "text/plain": [
       "  name    address         email  floor resources\n",
       "0    A  Bangalore   A@gmail.com      1       CPU\n",
       "1    A  Bangalore  A1@gmail.com      1       CPU\n",
       "2    A  Bangalore  A2@gmail.com      2   DESKTOP\n",
       "3    B  Bangalore   B@gmail.com      2   DESKTOP\n",
       "4    B  Bangalore  B1@gmail.com      2   DESKTOP\n",
       "5    B  Bangalore  B2@gmail.com      1   MONITOR"
      ]
     },
     "execution_count": 27,
     "metadata": {},
     "output_type": "execute_result"
    }
   ],
   "source": [
    "query = 'select * from entries'\n",
    "pd.read_sql_query(query,conn)"
   ]
  },
  {
   "cell_type": "code",
   "execution_count": 34,
   "id": "09cdacd0",
   "metadata": {},
   "outputs": [
    {
     "data": {
      "text/html": [
       "<div>\n",
       "<style scoped>\n",
       "    .dataframe tbody tr th:only-of-type {\n",
       "        vertical-align: middle;\n",
       "    }\n",
       "\n",
       "    .dataframe tbody tr th {\n",
       "        vertical-align: top;\n",
       "    }\n",
       "\n",
       "    .dataframe thead th {\n",
       "        text-align: right;\n",
       "    }\n",
       "</style>\n",
       "<table border=\"1\" class=\"dataframe\">\n",
       "  <thead>\n",
       "    <tr style=\"text-align: right;\">\n",
       "      <th></th>\n",
       "      <th>name</th>\n",
       "      <th>floor</th>\n",
       "      <th>no_of_floor_visit</th>\n",
       "    </tr>\n",
       "  </thead>\n",
       "  <tbody>\n",
       "    <tr>\n",
       "      <th>0</th>\n",
       "      <td>A</td>\n",
       "      <td>1</td>\n",
       "      <td>2</td>\n",
       "    </tr>\n",
       "    <tr>\n",
       "      <th>1</th>\n",
       "      <td>A</td>\n",
       "      <td>2</td>\n",
       "      <td>1</td>\n",
       "    </tr>\n",
       "    <tr>\n",
       "      <th>2</th>\n",
       "      <td>B</td>\n",
       "      <td>1</td>\n",
       "      <td>1</td>\n",
       "    </tr>\n",
       "    <tr>\n",
       "      <th>3</th>\n",
       "      <td>B</td>\n",
       "      <td>2</td>\n",
       "      <td>2</td>\n",
       "    </tr>\n",
       "  </tbody>\n",
       "</table>\n",
       "</div>"
      ],
      "text/plain": [
       "  name  floor  no_of_floor_visit\n",
       "0    A      1                  2\n",
       "1    A      2                  1\n",
       "2    B      1                  1\n",
       "3    B      2                  2"
      ]
     },
     "execution_count": 34,
     "metadata": {},
     "output_type": "execute_result"
    }
   ],
   "source": [
    "#Query to count the number of visits by A and B in each floor\n",
    "query = \"\"\"\n",
    "select name, \n",
    "       floor,\n",
    "       count(1) as no_of_floor_visit\n",
    "from entries \n",
    "group by name,floor \"\"\"\n",
    "pd.read_sql_query(query,conn)"
   ]
  },
  {
   "cell_type": "code",
   "execution_count": 44,
   "id": "00ddde34",
   "metadata": {},
   "outputs": [
    {
     "data": {
      "text/html": [
       "<div>\n",
       "<style scoped>\n",
       "    .dataframe tbody tr th:only-of-type {\n",
       "        vertical-align: middle;\n",
       "    }\n",
       "\n",
       "    .dataframe tbody tr th {\n",
       "        vertical-align: top;\n",
       "    }\n",
       "\n",
       "    .dataframe thead th {\n",
       "        text-align: right;\n",
       "    }\n",
       "</style>\n",
       "<table border=\"1\" class=\"dataframe\">\n",
       "  <thead>\n",
       "    <tr style=\"text-align: right;\">\n",
       "      <th></th>\n",
       "      <th>name</th>\n",
       "      <th>floor</th>\n",
       "      <th>no_of_floor_visit</th>\n",
       "      <th>rank</th>\n",
       "    </tr>\n",
       "  </thead>\n",
       "  <tbody>\n",
       "    <tr>\n",
       "      <th>0</th>\n",
       "      <td>A</td>\n",
       "      <td>1</td>\n",
       "      <td>2</td>\n",
       "      <td>1</td>\n",
       "    </tr>\n",
       "    <tr>\n",
       "      <th>1</th>\n",
       "      <td>A</td>\n",
       "      <td>2</td>\n",
       "      <td>1</td>\n",
       "      <td>2</td>\n",
       "    </tr>\n",
       "    <tr>\n",
       "      <th>2</th>\n",
       "      <td>B</td>\n",
       "      <td>2</td>\n",
       "      <td>2</td>\n",
       "      <td>1</td>\n",
       "    </tr>\n",
       "    <tr>\n",
       "      <th>3</th>\n",
       "      <td>B</td>\n",
       "      <td>1</td>\n",
       "      <td>1</td>\n",
       "      <td>2</td>\n",
       "    </tr>\n",
       "  </tbody>\n",
       "</table>\n",
       "</div>"
      ],
      "text/plain": [
       "  name  floor  no_of_floor_visit  rank\n",
       "0    A      1                  2     1\n",
       "1    A      2                  1     2\n",
       "2    B      2                  2     1\n",
       "3    B      1                  1     2"
      ]
     },
     "execution_count": 44,
     "metadata": {},
     "output_type": "execute_result"
    }
   ],
   "source": [
    "#Query to rank the visits by A and B using rank() \n",
    "#partition by - for each name we find the rank, order by count(1) desc - rank 1 for highest number of count(1)\n",
    "query = \"\"\"\n",
    "select name, \n",
    "       floor,\n",
    "       count(1) as no_of_floor_visit,\n",
    "       rank() over (partition by name order by count(1) desc) as rank\n",
    "from entries \n",
    "group by name,floor \"\"\"\n",
    "pd.read_sql_query(query,conn)"
   ]
  },
  {
   "cell_type": "code",
   "execution_count": 39,
   "id": "174ebfb4",
   "metadata": {},
   "outputs": [
    {
     "data": {
      "text/html": [
       "<div>\n",
       "<style scoped>\n",
       "    .dataframe tbody tr th:only-of-type {\n",
       "        vertical-align: middle;\n",
       "    }\n",
       "\n",
       "    .dataframe tbody tr th {\n",
       "        vertical-align: top;\n",
       "    }\n",
       "\n",
       "    .dataframe thead th {\n",
       "        text-align: right;\n",
       "    }\n",
       "</style>\n",
       "<table border=\"1\" class=\"dataframe\">\n",
       "  <thead>\n",
       "    <tr style=\"text-align: right;\">\n",
       "      <th></th>\n",
       "      <th>name</th>\n",
       "      <th>total_visits</th>\n",
       "      <th>resources_used</th>\n",
       "    </tr>\n",
       "  </thead>\n",
       "  <tbody>\n",
       "    <tr>\n",
       "      <th>0</th>\n",
       "      <td>A</td>\n",
       "      <td>3</td>\n",
       "      <td>CPU,DESKTOP</td>\n",
       "    </tr>\n",
       "    <tr>\n",
       "      <th>1</th>\n",
       "      <td>B</td>\n",
       "      <td>3</td>\n",
       "      <td>DESKTOP,MONITOR</td>\n",
       "    </tr>\n",
       "  </tbody>\n",
       "</table>\n",
       "</div>"
      ],
      "text/plain": [
       "  name  total_visits   resources_used\n",
       "0    A             3      CPU,DESKTOP\n",
       "1    B             3  DESKTOP,MONITOR"
      ]
     },
     "execution_count": 39,
     "metadata": {},
     "output_type": "execute_result"
    }
   ],
   "source": [
    "#Query to concat the distinct values in resources followed by group by name to determine the resource used by each person \n",
    "query = \"\"\"\n",
    "select name, \n",
    "       count(1) as total_visits, \n",
    "       group_concat(distinct(resources)) as resources_used \n",
    "from entries \n",
    "group by name \"\"\"\n",
    "pd.read_sql_query(query,conn)"
   ]
  },
  {
   "cell_type": "code",
   "execution_count": 30,
   "id": "79ea7557",
   "metadata": {},
   "outputs": [
    {
     "data": {
      "text/html": [
       "<div>\n",
       "<style scoped>\n",
       "    .dataframe tbody tr th:only-of-type {\n",
       "        vertical-align: middle;\n",
       "    }\n",
       "\n",
       "    .dataframe tbody tr th {\n",
       "        vertical-align: top;\n",
       "    }\n",
       "\n",
       "    .dataframe thead th {\n",
       "        text-align: right;\n",
       "    }\n",
       "</style>\n",
       "<table border=\"1\" class=\"dataframe\">\n",
       "  <thead>\n",
       "    <tr style=\"text-align: right;\">\n",
       "      <th></th>\n",
       "      <th>name</th>\n",
       "      <th>most_visited_floor</th>\n",
       "      <th>total_visits</th>\n",
       "      <th>resources_used</th>\n",
       "    </tr>\n",
       "  </thead>\n",
       "  <tbody>\n",
       "    <tr>\n",
       "      <th>0</th>\n",
       "      <td>A</td>\n",
       "      <td>1</td>\n",
       "      <td>3</td>\n",
       "      <td>CPU,DESKTOP</td>\n",
       "    </tr>\n",
       "    <tr>\n",
       "      <th>1</th>\n",
       "      <td>B</td>\n",
       "      <td>2</td>\n",
       "      <td>3</td>\n",
       "      <td>DESKTOP,MONITOR</td>\n",
       "    </tr>\n",
       "  </tbody>\n",
       "</table>\n",
       "</div>"
      ],
      "text/plain": [
       "  name  most_visited_floor  total_visits   resources_used\n",
       "0    A                   1             3      CPU,DESKTOP\n",
       "1    B                   2             3  DESKTOP,MONITOR"
      ]
     },
     "execution_count": 30,
     "metadata": {},
     "output_type": "execute_result"
    }
   ],
   "source": [
    "#Query to join the temp tables and filter it based on rank 1 as per the floor visit\n",
    "query = \"\"\"\n",
    "with total_visits as\n",
    "(\n",
    "select name, \n",
    "       count(1) as total_visits, \n",
    "       group_concat(distinct(resources)) as resources_used \n",
    "from entries \n",
    "group by name\n",
    "),\n",
    "floor_visit as\n",
    "(\n",
    "select name, \n",
    "       floor,\n",
    "       count(1) as no_of_floor_visit,\n",
    "       rank() over (partition by name order by count(1) desc) as rank\n",
    "from entries \n",
    "group by name,floor\n",
    ")\n",
    "\n",
    "select fv.name, \n",
    "       fv.floor as most_visited_floor,\n",
    "       tv.total_visits,\n",
    "       tv.resources_used  \n",
    "from floor_visit fv\n",
    "inner join total_visits tv on fv.name = tv.name \n",
    "where rank = 1\n",
    "\"\"\"\n",
    "\n",
    "pd.read_sql_query(query,conn)"
   ]
  },
  {
   "cell_type": "code",
   "execution_count": 45,
   "id": "5ca5596d",
   "metadata": {},
   "outputs": [],
   "source": [
    "conn.commit()\n",
    "conn.close()"
   ]
  }
 ],
 "metadata": {
  "kernelspec": {
   "display_name": "Python 3 (ipykernel)",
   "language": "python",
   "name": "python3"
  },
  "language_info": {
   "codemirror_mode": {
    "name": "ipython",
    "version": 3
   },
   "file_extension": ".py",
   "mimetype": "text/x-python",
   "name": "python",
   "nbconvert_exporter": "python",
   "pygments_lexer": "ipython3",
   "version": "3.11.1"
  }
 },
 "nbformat": 4,
 "nbformat_minor": 5
}
